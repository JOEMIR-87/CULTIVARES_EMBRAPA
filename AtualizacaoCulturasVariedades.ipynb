{
 "cells": [
  {
   "cell_type": "code",
   "execution_count": 57,
   "id": "e0e59119",
   "metadata": {},
   "outputs": [
    {
     "name": "stdout",
     "output_type": "stream",
     "text": [
      "Requirement already satisfied: unidecode in c:\\users\\joemir\\anaconda3\\lib\\site-packages (1.3.2)\n"
     ]
    }
   ],
   "source": [
    "#Instalando bibliotecas\n",
    "!pip install unidecode"
   ]
  },
  {
   "cell_type": "code",
   "execution_count": 58,
   "id": "f0906293",
   "metadata": {},
   "outputs": [],
   "source": [
    "#Importando bibliotecas\n",
    "import pandas as pd\n",
    "import os\n",
    "from time import sleep\n",
    "import urllib.request as urllib_request\n",
    "import bs4\n",
    "import shutil\n",
    "from selenium import webdriver\n",
    "from selenium.webdriver.chrome.options import Options\n",
    "from selenium.webdriver.support import expected_conditions as EC\n",
    "from selenium.webdriver.support.ui import WebDriverWait\n",
    "from selenium.webdriver.common.by import By\n",
    "from unidecode import unidecode"
   ]
  },
  {
   "cell_type": "code",
   "execution_count": 59,
   "id": "bcd99cee",
   "metadata": {},
   "outputs": [],
   "source": [
    "#Definindo opções do navegador\n",
    "options= Options()\n",
    "#options.add_argument('--headless') # não exibir o navegador operando\n",
    "options.add_argument('window-size=400,800')"
   ]
  },
  {
   "cell_type": "code",
   "execution_count": 60,
   "id": "7a6e50d9",
   "metadata": {},
   "outputs": [],
   "source": [
    "#Abrindo o navegador e acessando o site da Embrapa\n",
    "navegador = webdriver.Chrome(options=options)\n",
    "navegador.get('https://www.embrapa.br/cultivares')"
   ]
  },
  {
   "cell_type": "code",
   "execution_count": 61,
   "id": "0b2bdcaf",
   "metadata": {
    "scrolled": false
   },
   "outputs": [],
   "source": [
    "#Transformando o html da página em um objeto BeautifulSoup da biblioteca bs4\n",
    "htmlPagina = navegador.page_source\n",
    "\n",
    "site = bs4.BeautifulSoup(htmlPagina, 'html.parser')"
   ]
  },
  {
   "cell_type": "code",
   "execution_count": 62,
   "id": "c1b2f8e6",
   "metadata": {
    "scrolled": true
   },
   "outputs": [],
   "source": [
    "#culturas= site.find_all('a', {'class':'listagem-acesso-rapido-publicacoes'})\n",
    "#culturas"
   ]
  },
  {
   "cell_type": "code",
   "execution_count": 63,
   "id": "6100f071",
   "metadata": {
    "scrolled": false
   },
   "outputs": [],
   "source": [
    "#culturas2= site.find_all('a', {'class':''})\n",
    "#culturas2"
   ]
  },
  {
   "cell_type": "code",
   "execution_count": 64,
   "id": "79d1cefb",
   "metadata": {},
   "outputs": [
    {
     "data": {
      "text/plain": [
       "[<h2 class=\"nome\"><a class=\"listagem-acesso-rapido-publicacoes\" href=\"/cultivar/abacaxi\">Abacaxi</a></h2>,\n",
       " <h2 class=\"nome\"><a class=\"listagem-acesso-rapido-publicacoes\" href=\"/cultivar/abobora\">Abóbora</a></h2>,\n",
       " <h2 class=\"nome\"><a class=\"listagem-acesso-rapido-publicacoes\" href=\"/cultivar/acai\">Açaí</a></h2>,\n",
       " <h2 class=\"nome\"><a class=\"listagem-acesso-rapido-publicacoes\" href=\"/cultivar/alface\">Alface</a></h2>,\n",
       " <h2 class=\"nome\"><a class=\"listagem-acesso-rapido-publicacoes\" href=\"/cultivar/algodao\">Algodão</a></h2>,\n",
       " <h2 class=\"nome\"><a class=\"listagem-acesso-rapido-publicacoes\" href=\"/cultivar/alho\">Alho</a></h2>,\n",
       " <h2 class=\"nome\"><a class=\"listagem-acesso-rapido-publicacoes\" href=\"/cultivar/amendoim\">Amendoim</a></h2>,\n",
       " <h2 class=\"nome\"><a class=\"listagem-acesso-rapido-publicacoes\" href=\"/cultivar/amora\">Amora</a></h2>,\n",
       " <h2 class=\"nome\"><a class=\"listagem-acesso-rapido-publicacoes\" href=\"/cultivar/arroz\">Arroz</a></h2>,\n",
       " <h2 class=\"nome\"><a class=\"listagem-acesso-rapido-publicacoes\" href=\"/cultivar/aveia\">Aveia</a></h2>,\n",
       " <h2 class=\"nome\"><a class=\"listagem-acesso-rapido-publicacoes\" href=\"/cultivar/azevem\">Azevém</a></h2>,\n",
       " <h2 class=\"nome\"><a class=\"listagem-acesso-rapido-publicacoes\" href=\"/cultivar/banana\">Banana</a></h2>,\n",
       " <h2 class=\"nome\"><a class=\"listagem-acesso-rapido-publicacoes\" href=\"/cultivar/batata\">Batata</a></h2>,\n",
       " <h2 class=\"nome\"><a class=\"listagem-acesso-rapido-publicacoes\" href=\"/cultivar/batata-doce\">Batata-doce</a></h2>,\n",
       " <h2 class=\"nome\"><a class=\"listagem-acesso-rapido-publicacoes\" href=\"/cultivar/berinjela\">Berinjela</a></h2>,\n",
       " <h2 class=\"nome\"><a class=\"listagem-acesso-rapido-publicacoes\" href=\"/cultivar/brachiaria\">Brachiaria</a></h2>,\n",
       " <h2 class=\"nome\"><a class=\"listagem-acesso-rapido-publicacoes\" href=\"/cultivar/cafe\">Café</a></h2>,\n",
       " <h2 class=\"nome\"><a class=\"listagem-acesso-rapido-publicacoes\" href=\"/cultivar/capim-elefante\">Capim Elefante</a></h2>,\n",
       " <h2 class=\"nome\"><a class=\"listagem-acesso-rapido-publicacoes\" href=\"/cultivar/capim-sudao\">Capim-sudão</a></h2>,\n",
       " <h2 class=\"nome\"><a class=\"listagem-acesso-rapido-publicacoes\" href=\"/cultivar/cebola\">Cebola</a></h2>,\n",
       " <h2 class=\"nome\"><a class=\"listagem-acesso-rapido-publicacoes\" href=\"/cultivar/cenoura\">Cenoura</a></h2>,\n",
       " <h2 class=\"nome\"><a class=\"listagem-acesso-rapido-publicacoes\" href=\"/cultivar/centeio\">Centeio</a></h2>,\n",
       " <h2 class=\"nome\"><a class=\"listagem-acesso-rapido-publicacoes\" href=\"/cultivar/cevada\">Cevada</a></h2>,\n",
       " <h2 class=\"nome\"><a class=\"listagem-acesso-rapido-publicacoes\" href=\"/cultivar/cornichao\">Cornichão</a></h2>,\n",
       " <h2 class=\"nome\"><a class=\"listagem-acesso-rapido-publicacoes\" href=\"/cultivar/cupuacu\">Cupuaçu</a></h2>,\n",
       " <h2 class=\"nome\"><a class=\"listagem-acesso-rapido-publicacoes\" href=\"/cultivar/feijao\">Feijão</a></h2>,\n",
       " <h2 class=\"nome\"><a class=\"listagem-acesso-rapido-publicacoes\" href=\"/cultivar/feijao-caupi-vigna\">Feijão-caupi (vigna)</a></h2>,\n",
       " <h2 class=\"nome\"><a class=\"listagem-acesso-rapido-publicacoes\" href=\"/cultivar/feijao-guandu\">Feijão Guandu</a></h2>,\n",
       " <h2 class=\"nome\"><a class=\"listagem-acesso-rapido-publicacoes\" href=\"/cultivar/gergelim\">Gergelim</a></h2>,\n",
       " <h2 class=\"nome\"><a class=\"listagem-acesso-rapido-publicacoes\" href=\"/cultivar/girassol\">Girassol</a></h2>,\n",
       " <h2 class=\"nome\"><a class=\"listagem-acesso-rapido-publicacoes\" href=\"/cultivar/grao-de-bico\">Grão-de-bico</a></h2>,\n",
       " <h2 class=\"nome\"><a class=\"listagem-acesso-rapido-publicacoes\" href=\"/cultivar/guarana\">Guaraná</a></h2>,\n",
       " <h2 class=\"nome\"><a class=\"listagem-acesso-rapido-publicacoes\" href=\"/cultivar/lima-acida\">Lima ácida</a></h2>,\n",
       " <h2 class=\"nome\"><a class=\"listagem-acesso-rapido-publicacoes\" href=\"/cultivar/limao\">Limão</a></h2>,\n",
       " <h2 class=\"nome\"><a class=\"listagem-acesso-rapido-publicacoes\" href=\"/cultivar/mamona\">Mamona</a></h2>,\n",
       " <h2 class=\"nome\"><a href=\"https://www.embrapa.br/cultivar/mandioca\">Mandioca</a></h2>,\n",
       " <h2 class=\"nome\"><a href=\"https://www.embrapa.br/cultivar/maracuja\">Maracujá</a></h2>,\n",
       " <h2 class=\"nome\"><a href=\"https://www.embrapa.br/cultivar/mandioquinha-salsa\">Mandioquinha-salsa</a></h2>,\n",
       " <h2 class=\"nome\"><a href=\"/cultivar/melao\" style=\"font-family: inherit;\">Melão</a></h2>,\n",
       " <h2 class=\"nome\"><a class=\"listagem-acesso-rapido-publicacoes\" href=\"/cultivar/milheto\">Milheto</a></h2>,\n",
       " <h2 class=\"nome\"><a class=\"listagem-acesso-rapido-publicacoes\" href=\"/cultivar/milho\">Milho</a></h2>,\n",
       " <h2 class=\"nome\"><a class=\"listagem-acesso-rapido-publicacoes\" href=\"/cultivar/palma-de-oleo\">Palma de óleo</a></h2>,\n",
       " <h2 class=\"nome\"><a class=\"listagem-acesso-rapido-publicacoes\" href=\"/cultivar/panicum-maximum\">Panicum maximum</a></h2>,\n",
       " <h2 class=\"nome\"><a class=\"listagem-acesso-rapido-publicacoes\" href=\"/cultivar/pessego\">Pêssego</a></h2>,\n",
       " <h2 class=\"nome\"><a class=\"listagem-acesso-rapido-publicacoes\" href=\"/cultivar/soja\">Soja</a></h2>,\n",
       " <h2 class=\"nome\"><a class=\"listagem-acesso-rapido-publicacoes\" href=\"/cultivar/sorgo\">Sorgo</a></h2>,\n",
       " <h2 class=\"nome\"><a class=\"listagem-acesso-rapido-publicacoes\" href=\"/cultivar/tangor\">Tangor</a></h2>,\n",
       " <h2 class=\"nome\"><a class=\"listagem-acesso-rapido-publicacoes\" href=\"/cultivar/tomate\">Tomate</a></h2>,\n",
       " <h2 class=\"nome\"><a class=\"listagem-acesso-rapido-publicacoes\" href=\"/cultivar/trevo\">Trevo</a></h2>,\n",
       " <h2 class=\"nome\"><a class=\"listagem-acesso-rapido-publicacoes\" href=\"/cultivar/trigo\">Trigo</a></h2>,\n",
       " <h2 class=\"nome\"><a class=\"listagem-acesso-rapido-publicacoes\" href=\"/cultivar/triticale\">Triticale</a></h2>,\n",
       " <h2 class=\"nome\"><a class=\"listagem-acesso-rapido-publicacoes\" href=\"/cultivar/Uva\">Uva</a></h2>]"
      ]
     },
     "execution_count": 64,
     "metadata": {},
     "output_type": "execute_result"
    }
   ],
   "source": [
    "#Buscando todas as classes \"nome\" dentro da variável site\n",
    "culturas3= site.find_all('h2', {'class':'nome'})\n",
    "culturas3"
   ]
  },
  {
   "cell_type": "code",
   "execution_count": 65,
   "id": "965b5b16",
   "metadata": {
    "scrolled": false
   },
   "outputs": [
    {
     "data": {
      "text/plain": [
       "['Abacaxi',\n",
       " 'Abóbora',\n",
       " 'Açaí',\n",
       " 'Alface',\n",
       " 'Algodão',\n",
       " 'Alho',\n",
       " 'Amendoim',\n",
       " 'Amora',\n",
       " 'Arroz',\n",
       " 'Aveia',\n",
       " 'Azevém',\n",
       " 'Banana',\n",
       " 'Batata',\n",
       " 'Batata-doce',\n",
       " 'Berinjela',\n",
       " 'Brachiaria',\n",
       " 'Café',\n",
       " 'Capim Elefante',\n",
       " 'Capim-sudão',\n",
       " 'Cebola',\n",
       " 'Cenoura',\n",
       " 'Centeio',\n",
       " 'Cevada',\n",
       " 'Cornichão',\n",
       " 'Cupuaçu',\n",
       " 'Feijão',\n",
       " 'Feijão-caupi (vigna)',\n",
       " 'Feijão Guandu',\n",
       " 'Gergelim',\n",
       " 'Girassol',\n",
       " 'Grão-de-bico',\n",
       " 'Guaraná',\n",
       " 'Lima ácida',\n",
       " 'Limão',\n",
       " 'Mamona',\n",
       " 'Mandioca',\n",
       " 'Maracujá',\n",
       " 'Mandioquinha-salsa',\n",
       " 'Melão',\n",
       " 'Milheto',\n",
       " 'Milho',\n",
       " 'Palma de óleo',\n",
       " 'Panicum maximum',\n",
       " 'Pêssego',\n",
       " 'Soja',\n",
       " 'Sorgo',\n",
       " 'Tangor',\n",
       " 'Tomate',\n",
       " 'Trevo',\n",
       " 'Trigo',\n",
       " 'Triticale',\n",
       " 'Uva']"
      ]
     },
     "execution_count": 65,
     "metadata": {},
     "output_type": "execute_result"
    }
   ],
   "source": [
    "#Identificando o texto de cada classe nome e relacionando eum uma lista\n",
    "listaCulturas=[]\n",
    "for i in culturas3:\n",
    "    listaCulturas.append(i.get_text())\n",
    "\n",
    "listaCulturas"
   ]
  },
  {
   "cell_type": "code",
   "execution_count": 66,
   "id": "64778205",
   "metadata": {
    "scrolled": true
   },
   "outputs": [],
   "source": [
    "#listaCulturasMinusculas=[]\n",
    "#for i in listaCulturas:\n",
    "#    minusculo= i.lower()\n",
    "#    simples=unidecode(minusculo)\n",
    "#    listaCulturasMinusculas.append(simples)\n",
    "    \n",
    "\n",
    "#listaCulturasMinusculas"
   ]
  },
  {
   "cell_type": "code",
   "execution_count": 67,
   "id": "f186e7ac",
   "metadata": {},
   "outputs": [
    {
     "data": {
      "text/plain": [
       "range(1, 52)"
      ]
     },
     "execution_count": 67,
     "metadata": {},
     "output_type": "execute_result"
    }
   ],
   "source": [
    "#Criando um range iniciando do 1 e finalizando no tamanho da lista \"listaCulturas\"\n",
    "tamanhoListaCulturas=range(((len(listaCulturas)+1)-len(listaCulturas)),len(listaCulturas))\n",
    "tamanhoListaCulturas"
   ]
  },
  {
   "cell_type": "code",
   "execution_count": 68,
   "id": "cb3881e2",
   "metadata": {},
   "outputs": [
    {
     "data": {
      "text/plain": [
       "range(-1, 52)"
      ]
     },
     "execution_count": 68,
     "metadata": {},
     "output_type": "execute_result"
    }
   ],
   "source": [
    "#Criando um range iniciando do -1 e finalizando no tamanho da lista \"listaCulturas\"\n",
    "tamanhoListaCulturas2=range(-1,len(listaCulturas))\n",
    "tamanhoListaCulturas2"
   ]
  },
  {
   "cell_type": "code",
   "execution_count": 69,
   "id": "70210670",
   "metadata": {},
   "outputs": [],
   "source": [
    "#listaCulturasMinusculas[tamanhoListaCulturas[0]] + variedade.get_text()"
   ]
  },
  {
   "cell_type": "code",
   "execution_count": 70,
   "id": "8346749c",
   "metadata": {},
   "outputs": [],
   "source": [
    "#Acessando cada uma das cultivares localizando e adicionando o nome de cada variável na listaVariedades\n",
    "listaVariedades=[]\n",
    "for i in tamanhoListaCulturas:\n",
    "    variedade= navegador.find_element_by_xpath(f'//*[@id=\"p_p_id_56_INSTANCE_zguAPBH3dSCJ_\"]/div/div/div[1]/div/div[{i}]/div/h2/a').click()\n",
    "    sleep(1)\n",
    "    navegador.get(navegador.current_url)\n",
    "    htmlPaginaVariedades = navegador.page_source\n",
    "    siteVariedades = bs4.BeautifulSoup(htmlPaginaVariedades, 'html.parser')\n",
    "    variedades= siteVariedades.find_all('h3', {'class':'titulo'})\n",
    "    for variedade in variedades:\n",
    "        listaVariedades.append(listaCulturas[tamanhoListaCulturas2[i]] + '_' + variedade.get_text())\n",
    "    navegador.find_element_by_xpath('//*[@id=\"breadcrumbs\"]/ul/li[2]/a').click()\n",
    "    sleep(1)"
   ]
  },
  {
   "cell_type": "code",
   "execution_count": 71,
   "id": "4652fb37",
   "metadata": {},
   "outputs": [],
   "source": [
    "#Transformando a listaVariedades em um data frame e salvando em um arquivo excel\n",
    "culturaDf = pd.DataFrame(listaVariedades, columns = ['Nomes'])\n",
    "culturaDf.to_excel('C:/Users/joemir/Documents/BOTs/AtualizacaoCulturasVariedades/culturadf.xlsx',encoding='utf-8', index=False)"
   ]
  },
  {
   "cell_type": "code",
   "execution_count": null,
   "id": "c1503c31",
   "metadata": {},
   "outputs": [],
   "source": []
  }
 ],
 "metadata": {
  "kernelspec": {
   "display_name": "Python 3",
   "language": "python",
   "name": "python3"
  },
  "language_info": {
   "codemirror_mode": {
    "name": "ipython",
    "version": 3
   },
   "file_extension": ".py",
   "mimetype": "text/x-python",
   "name": "python",
   "nbconvert_exporter": "python",
   "pygments_lexer": "ipython3",
   "version": "3.8.8"
  }
 },
 "nbformat": 4,
 "nbformat_minor": 5
}
